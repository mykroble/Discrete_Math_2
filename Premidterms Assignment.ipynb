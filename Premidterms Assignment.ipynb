{
 "cells": [
  {
   "cell_type": "markdown",
   "id": "f0adfa2f",
   "metadata": {},
   "source": [
    "# Myk Erolf Roble"
   ]
  },
  {
   "cell_type": "markdown",
   "id": "15fe262c",
   "metadata": {},
   "source": [
    "# Assignment\n",
    "## Instructions:\n",
    "- Use latex.\n",
    "- Write your latex in jupyter notebook.\n",
    "- Push your answer to your github account.\n",
    "- Deadline is 2 weeks before finals.\n",
    "- Fail to submit 2 weeks before finals is an automatic 5.0 for this assignment.\n",
    "- Each problem is 25 points."
   ]
  },
  {
   "cell_type": "markdown",
   "id": "cc965f05",
   "metadata": {},
   "source": [
    "### 1. Recall the definition of a rational number, denoted as $\\mathbb{Q}$. Prove that the Euler's number $e = \\Sigma_{k=0}^\\infty \\frac{1}{k!} \\notin \\mathbb{Q}$. A factorial is defined as $k! = (k)(k-1)(k-2)(k-3)..., \\forall k \\in \\mathbb{Z}^+$, note that $0! = 1$. Furthermore, a sum notation $\\Sigma_{k=0}^\\infty k = 0+ 1 + 2 + 3 +....+...$"
   ]
  },
  {
   "cell_type": "markdown",
   "id": "29ac17ef",
   "metadata": {},
   "source": [
    "<b>Solution:<br> Step 1:</b> Proof by Contradiction "
   ]
  },
  {
   "cell_type": "markdown",
   "id": "ad4e9928",
   "metadata": {},
   "source": [
    "We assume $e$ is rational , meaning it can be expressed as the ratio of two integers $p$ and $q$, where $q \\neq 0$."
   ]
  },
  {
   "cell_type": "markdown",
   "id": "afb56ca9",
   "metadata": {},
   "source": [
    "To prove the irrationality of Euler's number $e$, we employ a proof by contradiction.\n",
    "\n",
    "**Step 1: Assumption**<br>\n",
    "Suppose, for contradiction, that $e$ is rational, expressed as the ratio $\\frac{p}{q}$, where $p$ and $q$ are integers and $q \\neq 0$.\n",
    "\n",
    "**Step 2: Definition of $e$**<br>\n",
    "Recall that $e$ is defined as the sum of the series:\n",
    "$\\ e = \\frac{1}{0!} + \\frac{1}{1!} + \\frac{1}{2!} + \\frac{1}{3!} + \\ldots \\$\n",
    "\n",
    "**Step 3: Partial Sum of the Series**<br>\n",
    "Consider the partial sum of the series up to $n$ terms:\n",
    "$ S_n = \\frac{1}{0!} + \\frac{1}{1!} + \\frac{1}{2!} + \\frac{1}{3!} + \\ldots + \\frac{1}{n!}$\n",
    "For some positive integer $n$. As each term in the series is positive, $S_n$ increases and converges to $e$ as $n$ approaches infinity.\n",
    "\n",
    "**Step 4: Considering $q! \\cdot S_n$**<br>\n",
    "Now, consider the expression:\n",
    "$\\ q! \\cdot S_n = q! \\cdot \\left(\\frac{1}{0!} + \\frac{1}{1!} + \\frac{1}{2!} + \\frac{1}{3!} + \\ldots + \\frac{1}{n!}\\right) \\$\n",
    "\n",
    "**Step 5: Expansion of the Expression**<br>\n",
    "Expanding the expression, we get:\n",
    "$\\ q! \\cdot S_n = q! + \\frac{q!}{1!} + \\frac{q!}{2!} + \\frac{q!}{3!} + \\ldots + \\frac{q!}{n!} \\$\n",
    "\n",
    "**Step 6: Analysis of the Expression**<br>\n",
    "Since $S_n$ converges to $e$, $q! \\cdot S_n$ approximates $q! \\cdot e = p$. Thus, $p - q! \\cdot S_n$ should be a small positive integer.\n",
    "\n",
    "**Step 7: Conclusion**<br>\n",
    "However, each term in $p - q! \\cdot S_n$ is an integer or whole number, and each fraction term in the summation has a denominator greater than 1. Hence, $p - q! \\cdot S_n$ must be a non-zero positive integer. This contradicts our assumption that $e = p/q$, leading to the conclusion that $e$ is irrational.\n",
    "\n",
    "**Conclusion**<br>\n",
    "Therefore, $e$ is irrational, or $e \\notin \\mathbb{Q}$.\n",
    "<br><br>"
   ]
  },
  {
   "cell_type": "markdown",
   "id": "51018e7d",
   "metadata": {},
   "source": [
    "# 2. Prove Minkowski's Inequality for sums, $\\forall \\ p>1, (a_k, b_k)>0$:\n",
    "# \\begin{gather}\n",
    "\\begin{bmatrix}\n",
    "\\Sigma_{k=1}^n |a_k + b_k|^p\n",
    "\\end{bmatrix}^\\frac{1}{p}\n",
    "\\leq\n",
    "\\begin{bmatrix}\n",
    "\\Sigma_{k=1}^n |a_k|^p\n",
    "\\end{bmatrix}^\\frac{1}{p}\n",
    "+\n",
    "\\begin{bmatrix}\n",
    "\\Sigma_{k=1}^n |b_k|^p\n",
    "\\end{bmatrix}^\\frac{1}{p}\n",
    "\\end{gather}"
   ]
  },
  {
   "cell_type": "markdown",
   "id": "d00cbfdb",
   "metadata": {},
   "source": [
    "**Step 1:** Begin by employing Holder's inequality:\n",
    "- $\\sum_{k=1}^{n} |a_k b_k| \\leq \\left( \\sum_{k=1}^{n} |a_k|^p \\right)^{\\frac{1}{p}} \\left( \\sum_{k=1}^{n} |b_k|^q \\right)^{\\frac{1}{q}}$\n",
    "\n",
    "**Step 2:** Define the sequences $a_k = |x_k|^p $ and $ b_k = |y_k|^p $.\n",
    "\n",
    "**Step 3:** Apply Holder's inequality with the defined sequences:\n",
    "- $ \\sum_{k=1}^{n} |x_k y_k|^p \\leq \\left( \\sum_{k=1}^{n} |x_k|^p \\right)^{\\frac{1}{p}} \\left( \\sum_{k=1}^{n} |y_k|^q \\right)^{\\frac{1}{q}} $\n",
    "\n",
    "**Step 4:** Take the $p$-th root of both sides:\n",
    "- $ \\left( \\sum_{k=1}^{n} |x_k y_k|^p \\right)^{\\frac{1}{p}} \\leq \\left( \\sum_{k=1}^{n} |x_k|^p \\right)^{\\frac{1}{p}} \\left( \\sum_{k=1}^{n} |y_k|^p \\right)^{\\frac{1}{q}} $\n",
    "\n",
    "**Step 5:** Utilize the relationship between $p$ and $q$:\n",
    "- $ \\left( \\sum_{k=1}^{n} |x_k y_k|^p \\right)^{\\frac{1}{p}} \\leq \\left( \\sum_{k=1}^{n} |x_k|^p \\right)^{\\frac{1}{p}} \\left( \\sum_{k=1}^{n} |y_k|^p \\right)^{\\frac{p-1}{p}} $\n",
    "\n",
    "**Step 6:** Recognize that: \n",
    "- $ \\frac{p-1}{p} = 1 - \\frac{1}{p} $\n",
    "\n",
    "**Step 7:** Apply Holder's inequality again to eliminate the $ \\frac{p-1}{p} $ term:\n",
    "- $ \\left( \\sum_{k=1}^{n} |y_k|^p \\right)^{\\frac{p-1}{p}} \\leq n^{\\frac{p-1}{p}} \\left( \\sum_{k=1}^{n} |y_k|^p \\right)^{\\frac{1}{p}} $\n",
    "\n",
    "**Step 8:** Substitute this equation from step 7 back into the inequality:\n",
    "- $ \\left( \\sum_{k=1}^{n} |x_k + y_k|^p \\right)^{\\frac{1}{p}} \\leq n^{\\frac{1}{p}} \\left( \\sum_{k=1}^{n} |x_k|^p \\right)^{\\frac{1}{p}} \\left( \\sum_{k=1}^{n} |y_k|^p \\right)^{\\frac{1}{p}} $\n",
    "\n",
    "**Step 9:** Recognize the obtained expression as its final form:\n",
    "- $ \\left( \\sum_{k=1}^{n} |x_k + y_k|^p \\right)^{\\frac{1}{p}} \\leq n^{\\frac{1}{p}} \\left( \\sum_{k=1}^{n} |x_k|^p \\right)^{\\frac{1}{p}} \\left( \\sum_{k=1}^{n} |y_k|^p \\right)^{\\frac{1}{p}} $\n",
    "<br><br><br>\n"
   ]
  },
  {
   "cell_type": "markdown",
   "id": "08010668",
   "metadata": {},
   "source": [
    "# 3. Prove the triangle inequality $|x+y| \\leq |x| + |y|, \\forall (x,y) \\in \\mathbb{R}$"
   ]
  },
  {
   "cell_type": "markdown",
   "id": "dad9702f",
   "metadata": {},
   "source": [
    "**Proof:** Let $x$ and $y$ be real numbers. We aim to prove the triangle inequality $|x+y| \\leq |x| + |y|$.\n",
    "\n",
    "**Step 1:** Consider the case when $x$ and $y$ have the same sign (either both positive or both negative). In this case, $|x+y| = |x| + |y|$ since both $x$ and $y$ contribute positively to the sum $x+y$. Therefore, the inequality holds.\n",
    "\n",
    "**Step 2:** Consider the case when $x$ and $y$ have opposite signs. Without loss of generality, assume $x > 0$ and $y < 0$. Then, $|x+y| = |x| - |y|$. We need to show that $|x+y| \\leq |x| + |y|$:\n",
    "- Since $|x+y| = |x| - |y|$, adding $|y|$ to both sides yields $|x+y| + |y| = |x|$. \n",
    "- Now, by the triangle inequality for real numbers, $|x+y| + |y| \\leq |x+y+y| = |x+2y|$.\n",
    "- Since $x > 0$ and $y < 0$, it follows that $x + 2y > 0$. Therefore, $|x+2y| = x + 2y = |x| + |2y|$.\n",
    "- Since $|2y| = 2|y|$, we have $|x+2y| = |x| + 2|y|$. \n",
    "- Substituting this back into the previous inequality gives $|x+y| + |y| \\leq |x| + 2|y|$. \n",
    "- Since $|y|$ is positive, we can subtract $|y|$ from both sides to get $|x+y| \\leq |x| + |y|$, as desired.\n",
    "\n",
    "**Conclusion:** The triangle inequality $|x+y| \\leq |x| + |y|$ holds for all real numbers $x$ and $y$.\n",
    "<br><br><br>"
   ]
  },
  {
   "cell_type": "markdown",
   "id": "82b06bb5",
   "metadata": {},
   "source": [
    "## 4. Prove Sedrakayan's Lemma $\\forall u_i, v_i \\in \\mathbb{R}^+$:\n",
    "## \\begin{gather}\n",
    "\\frac{(\\Sigma_{i=1}^n u_i)^2}{\\Sigma_{i=1}^n v_i}\n",
    "\\leq\n",
    "\\Sigma_{i=1}^n \\frac{(u_i)^2}{v_i}\n",
    "\\end{gather}"
   ]
  },
  {
   "cell_type": "markdown",
   "id": "f53db33d",
   "metadata": {},
   "source": [
    "**Proof:** Let $u_i, v_i \\in \\mathbb{R}^+$ for $1 \\leq i \\leq n$. We aim to prove Sedrakayan's Lemma:\n",
    "\n",
    "**Step 1:** Recall the Cauchy-Schwarz Inequality:\n",
    "$\\ \\left( \\sum_{i=1}^n a_i b_i \\right)^2 \\leq \\left( \\sum_{i=1}^n a_i^2 \\right) \\left( \\sum_{i=1}^n b_i^2 \\right) \\$\n",
    "\n",
    "**Step 2:** Apply the Cauchy-Schwarz Inequality with $a_i = \\sqrt{v_i}$ and $b_i = \\sqrt{u_i^2/v_i}$:\n",
    "$\\ \\left( \\sum_{i=1}^n \\sqrt{v_i} \\cdot \\sqrt{\\frac{u_i^2}{v_i}} \\right)^2 \\leq \\left( \\sum_{i=1}^n (\\sqrt{v_i})^2 \\right) \\left( \\sum_{i=1}^n \\left(\\sqrt{\\frac{u_i^2}{v_i}}\\right)^2 \\right) \\$\n",
    "\n",
    "**Step 3:** Simplify and expand the terms:\n",
    "$\\ \\left( \\sum_{i=1}^n u_i \\right)^2 \\leq \\left( \\sum_{i=1}^n v_i \\right) \\left( \\sum_{i=1}^n \\frac{u_i^2}{v_i} \\right) \\$\n",
    "\n",
    "**Step 4:** Divide both sides by $\\sum_{i=1}^n v_i$ (since all $v_i$ are positive):\n",
    "$\\ \\frac{\\left( \\sum_{i=1}^n u_i \\right)^2}{\\sum_{i=1}^n v_i} \\leq \\sum_{i=1}^n \\frac{u_i^2}{v_i} \\$\n",
    "\n",
    "**Conclusion:** Thus, Sedrakayan's Lemma is proven:\n",
    "$\\ \\frac{\\left( \\sum_{i=1}^n u_i \\right)^2}{\\sum_{i=1}^n v_i} \\leq \\sum_{i=1}^n \\frac{u_i^2}{v_i} \\$\n"
   ]
  },
  {
   "cell_type": "markdown",
   "id": "90e66057",
   "metadata": {},
   "source": [
    "1. Consider the functions $f(x) = 2x+1$, $g(x)=2y-1$, $j(x) = |f(x)+g(x)|$, and $h(x) = j(x)^2$, show for the following inequality that:\n",
    "\n",
    "\\begin{gather}\n",
    "\\sqrt{|f(x)|^2} \\geq \\sqrt{h(x)} - \\sqrt{|g(x)|^2}, \\forall (x,y) \\in \\mathbb{Z}^+\n",
    "\\end{gather}"
   ]
  },
  {
   "cell_type": "markdown",
   "id": "1f891d19",
   "metadata": {},
   "source": [
    "To prove the given inequality, let's start by expressing each function in terms of \\(x\\):\n",
    "\n",
    "1. $(f(x) = 2x + 1)$<br>\n",
    "2. $(g(x) = 2y - 1)$<br>\n",
    "3. $(j(x) = |f(x) + g(x)|)$<br>\n",
    "4. $(h(x) = j(x)^2)$<br>\n",
    "\n",
    "Now, let's calculate each component of the inequality and simplify:\n",
    "\n",
    "1. $(\\sqrt{|f(x)|^2} = |2x + 1|)$<br>\n",
    "2. $(\\sqrt{h(x)} = |f(x) + g(x)| = |(2x + 1) + (2y - 1)| = |2x + 2y| = 2|x + y|)$<br>\n",
    "3. $(\\sqrt{|g(x)|^2} = |2y - 1|)$<br>\n",
    "\n",
    "So the inequality becomes:\n",
    "\n",
    "$[|2x + 1| \\geq 2|x + y| - |2y - 1|]$\n",
    "\n",
    "To show this inequality holds for all $((x, y) \\in \\mathbb{Z}^+)$, we'll consider two cases:\n",
    "\n",
    "1. If $(x + y \\geq 0)$, then $(|2x + 1| \\geq 2(x + y) - (2y - 1) = 2x + 1 \\geq 0)$, which is true.\n",
    "2. If $(x + y < 0)$, then $(|2x + 1| \\geq 2(x + y) - (1 - 2y) = 2x + 1 \\geq 0),$ which is also true.\n",
    "\n",
    "Thus, the inequality $(\\sqrt{|f(x)|^2} \\geq \\sqrt{h(x)} - \\sqrt{|g(x)|^2})$ holds for all $((x, y) \\in \\mathbb{Z}^+).$\n"
   ]
  },
  {
   "cell_type": "markdown",
   "id": "bfde4479",
   "metadata": {},
   "source": [
    "2. Prove Sedrakayan's Lemma if $u_i, v_i$ are square roots of an even integers:\n",
    "\\begin{gather}\n",
    "\\frac{(\\Sigma_{i=1}^n u_i)^2}{\\Sigma_{i=1}^n v_i}\n",
    "\\leq\n",
    "\\Sigma_{i=1}^n \\frac{(u_i)^2}{v_i}\n",
    "\\end{gather}"
   ]
  },
  {
   "cell_type": "markdown",
   "id": "20755805",
   "metadata": {},
   "source": [
    "**Proof:** Let $u_i$ and $v_i$ be square roots of even integers for $1 \\leq i \\leq n$. We aim to prove Sedrakayan's Lemma:\n",
    "\n",
    "**Step 1:** Recall the Cauchy-Schwarz Inequality:\n",
    "$$ \\left( \\sum_{i=1}^n a_i b_i \\right)^2 \\leq \\left( \\sum_{i=1}^n a_i^2 \\right) \\left( \\sum_{i=1}^n b_i^2 \\right) $$\n",
    "\n",
    "**Step 2:** Apply the Cauchy-Schwarz Inequality with $a_i = \\sqrt{v_i}$ and $b_i = \\frac{u_i}{\\sqrt{v_i}}$:\n",
    "$$ \\left( \\sum_{i=1}^n \\sqrt{v_i} \\cdot \\frac{u_i}{\\sqrt{v_i}} \\right)^2 \\leq \\left( \\sum_{i=1}^n (\\sqrt{v_i})^2 \\right) \\left( \\sum_{i=1}^n \\left(\\frac{u_i}{\\sqrt{v_i}}\\right)^2 \\right) $$\n",
    "\n",
    "**Step 3:** Simplify and expand the terms:\n",
    "$$ \\left( \\sum_{i=1}^n u_i \\right)^2 \\leq \\left( \\sum_{i=1}^n v_i \\right) \\left( \\sum_{i=1}^n \\frac{u_i^2}{v_i} \\right) $$\n",
    "\n",
    "**Step 4:** Divide both sides by $\\sum_{i=1}^n v_i$ (since all $v_i$ are positive):\n",
    "$$ \\frac{\\left( \\sum_{i=1}^n u_i \\right)^2}{\\sum_{i=1}^n v_i} \\leq \\sum_{i=1}^n \\frac{u_i^2}{v_i} $$\n",
    "\n",
    "**Conclusion:** Thus, Sedrakayan's Lemma is proven:\n",
    "$$ \\frac{\\left( \\sum_{i=1}^n u_i \\right)^2}{\\sum_{i=1}^n v_i} \\leq \\sum_{i=1}^n \\frac{u_i^2}{v_i} $$\n"
   ]
  }
 ],
 "metadata": {
  "kernelspec": {
   "display_name": "Python 3 (ipykernel)",
   "language": "python",
   "name": "python3"
  },
  "language_info": {
   "codemirror_mode": {
    "name": "ipython",
    "version": 3
   },
   "file_extension": ".py",
   "mimetype": "text/x-python",
   "name": "python",
   "nbconvert_exporter": "python",
   "pygments_lexer": "ipython3",
   "version": "3.11.7"
  }
 },
 "nbformat": 4,
 "nbformat_minor": 5
}
